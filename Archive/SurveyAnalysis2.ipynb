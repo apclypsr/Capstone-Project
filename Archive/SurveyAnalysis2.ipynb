{
 "cells": [
  {
   "cell_type": "code",
   "execution_count": 1,
   "metadata": {
    "collapsed": false
   },
   "outputs": [],
   "source": [
    "%matplotlib inline\n",
    "import pandas as pd\n",
    "import sys\n",
    "import numpy as np\n",
    "import datetime\n",
    "import seaborn as sns\n"
   ]
  },
  {
   "cell_type": "code",
   "execution_count": 2,
   "metadata": {
    "collapsed": true
   },
   "outputs": [],
   "source": [
    "#import ML models\n",
    "\n",
    "from sklearn.preprocessing import StandardScaler\n",
    "from sklearn import cross_validation\n",
    "from sklearn.metrics import classification_report\n",
    "from sklearn.metrics import confusion_matrix\n",
    "from sklearn.metrics import accuracy_score\n",
    "from sklearn.pipeline import Pipeline\n",
    "from sklearn.grid_search import GridSearchCV\n",
    "from sklearn.tree import DecisionTreeClassifier\n",
    "from sklearn.neighbors import KNeighborsClassifier\n",
    "from sklearn.discriminant_analysis import LinearDiscriminantAnalysis\n",
    "from sklearn.naive_bayes import GaussianNB\n",
    "from sklearn.svm import SVC\n",
    "from sklearn.ensemble import AdaBoostClassifier\n",
    "from sklearn.ensemble import GradientBoostingClassifier\n",
    "from sklearn.ensemble import RandomForestClassifier\n"
   ]
  },
  {
   "cell_type": "code",
   "execution_count": 7,
   "metadata": {
    "collapsed": false,
    "scrolled": true
   },
   "outputs": [
    {
     "data": {
      "text/html": [
       "<style>body {\n",
       "    margin: 0;\n",
       "    font-family: Helvetica;\n",
       "}\n",
       "table.dataframe {\n",
       "    border-collapse: collapse;\n",
       "    border: none;\n",
       "}\n",
       "table.dataframe tr {\n",
       "    border: none;\n",
       "}\n",
       "table.dataframe td, table.dataframe th {\n",
       "    margin: 0;\n",
       "    border: 1px solid white;\n",
       "    padding-left: 0.25em;\n",
       "    padding-right: 0.25em;\n",
       "}\n",
       "table.dataframe th:not(:empty) {\n",
       "    background-color: #fec;\n",
       "    text-align: left;\n",
       "    font-weight: normal;\n",
       "}\n",
       "table.dataframe tr:nth-child(2) th:empty {\n",
       "    border-left: none;\n",
       "    border-right: 1px dashed #888;\n",
       "}\n",
       "table.dataframe td {\n",
       "    border: 2px solid #ccf;\n",
       "    background-color: #f4f4ff;\n",
       "}\n",
       "h3 {\n",
       "    color: white;\n",
       "    background-color: black;\n",
       "    padding: 0.5em;\n",
       "}\n",
       "</style>"
      ],
      "text/plain": [
       "<IPython.core.display.HTML object>"
      ]
     },
     "execution_count": 7,
     "metadata": {},
     "output_type": "execute_result"
    }
   ],
   "source": [
    "from IPython.core.display import HTML\n",
    "css = open('../Data/style-table.css').read() + open('../Data/style-notebook.css').read()\n",
    "HTML('<style>{}</style>'.format(css))"
   ]
  },
  {
   "cell_type": "code",
   "execution_count": 8,
   "metadata": {
    "collapsed": false,
    "scrolled": true
   },
   "outputs": [],
   "source": [
    "#imports the raw data in chunks. SQL export could not accomodate one CSV dump\n",
    "\n",
    "USMTO1 = pd.DataFrame.from_csv('../Data/USMTO1.norm.csv', index_col = False)\n",
    "USMTO2 = pd.DataFrame.from_csv('../Data/USMTO2.norm.csv', index_col = False)\n",
    "USMTO3 = pd.DataFrame.from_csv('../Data/USMTO3.norm.csv', index_col = False)\n",
    "USMTO4 = pd.DataFrame.from_csv('../Data/USMTO4.norm.csv', index_col = False)\n",
    "USMTO5 = pd.DataFrame.from_csv('../Data/USMTO5.norm.csv', index_col = False)"
   ]
  },
  {
   "cell_type": "code",
   "execution_count": 9,
   "metadata": {
    "collapsed": true
   },
   "outputs": [],
   "source": [
    "#imports raw data for S&P 500 values and Industrial Production\n",
    "\n",
    "SP_500 = pd.DataFrame.from_csv('../Data/SP_500.csv', index_col = False)"
   ]
  },
  {
   "cell_type": "code",
   "execution_count": 10,
   "metadata": {
    "collapsed": false
   },
   "outputs": [],
   "source": [
    "#re-combines raw data\n",
    "\n",
    "USMTO_WHOLE = USMTO1.append(USMTO2).append(USMTO3).append(USMTO4).append(USMTO5)"
   ]
  },
  {
   "cell_type": "code",
   "execution_count": 11,
   "metadata": {
    "collapsed": false
   },
   "outputs": [],
   "source": [
    "#merges external data with USMTO data\n",
    "\n",
    "USMTO_WHOLE = USMTO_WHOLE.merge(SP_500, how='inner', on = ['EntryMonth', 'EntryYear'])"
   ]
  },
  {
   "cell_type": "code",
   "execution_count": 12,
   "metadata": {
    "collapsed": false
   },
   "outputs": [],
   "source": [
    "#format order date to datetime to prepare for analysis\n",
    "\n",
    "USMTO_WHOLE['OrderDateFormatted'] = pd.to_datetime(USMTO_WHOLE.OrderDate)"
   ]
  },
  {
   "cell_type": "code",
   "execution_count": 13,
   "metadata": {
    "collapsed": false
   },
   "outputs": [],
   "source": [
    "#format changed date to datetime to prepare for analysis\n",
    "\n",
    "USMTO_WHOLE['ChangedDateFormatted'] = pd.to_datetime(USMTO_WHOLE.ChangedDate)"
   ]
  },
  {
   "cell_type": "code",
   "execution_count": 14,
   "metadata": {
    "collapsed": false
   },
   "outputs": [],
   "source": [
    "#format submit date to datetime to prepare for analysis\n",
    "\n",
    "USMTO_WHOLE['SubmitDateFormatted'] = pd.to_datetime(USMTO_WHOLE.SubmitDate.fillna(''))"
   ]
  },
  {
   "cell_type": "code",
   "execution_count": 15,
   "metadata": {
    "collapsed": false
   },
   "outputs": [],
   "source": [
    "#more formatting to get Order Date at End of Month\n",
    "\n",
    "USMTO_WHOLE['hyphen'] = \"-\"\n",
    "\n",
    "USMTO_WHOLE['OrderDateEOM'] = (USMTO_WHOLE.EntryYear.astype(str)) + (USMTO_WHOLE.hyphen) + (USMTO_WHOLE.EntryMonth.astype(str)) + (USMTO_WHOLE.hyphen) + (USMTO_WHOLE.OrderDateFormatted.dt.days_in_month.astype(str))"
   ]
  },
  {
   "cell_type": "code",
   "execution_count": 16,
   "metadata": {
    "collapsed": false
   },
   "outputs": [],
   "source": [
    "#format OrderDateEOM to datetime\n",
    "\n",
    "USMTO_WHOLE['OrderDateEOM'] = pd.to_datetime(USMTO_WHOLE['OrderDateEOM'])\n"
   ]
  },
  {
   "cell_type": "code",
   "execution_count": 17,
   "metadata": {
    "collapsed": false
   },
   "outputs": [],
   "source": [
    "#create column DaysLate which indicates how many days late the order was submitted\n",
    "\n",
    "USMTO_WHOLE['DaysLate'] = (USMTO_WHOLE['SubmitDateFormatted'] - USMTO_WHOLE['OrderDateEOM']).dt.days - 10"
   ]
  },
  {
   "cell_type": "code",
   "execution_count": 18,
   "metadata": {
    "collapsed": false
   },
   "outputs": [],
   "source": [
    "#fill all NaN with \"0\" -> count=141\n",
    "\n",
    "USMTO_WHOLE['DaysLate'] = USMTO_WHOLE['DaysLate'].fillna('0')"
   ]
  },
  {
   "cell_type": "code",
   "execution_count": 19,
   "metadata": {
    "collapsed": false
   },
   "outputs": [],
   "source": [
    "#cast DaysLate and TotalSale as float64\n",
    "\n",
    "USMTO_WHOLE['DaysLate'] = pd.to_numeric(USMTO_WHOLE['DaysLate'])\n",
    "USMTO_WHOLE['TotalSale'] = (USMTO_WHOLE['TotalSale'].replace( '[\\$,)]','', regex=True )\n",
    "               .replace( '[(]','-',   regex=True ).astype(float))"
   ]
  },
  {
   "cell_type": "code",
   "execution_count": 20,
   "metadata": {
    "collapsed": false
   },
   "outputs": [],
   "source": [
    "#drop un-needed columns\n",
    "\n",
    "USMTO_WHOLE = USMTO_WHOLE.drop('SubmitDate', axis=1)\n",
    "USMTO_WHOLE = USMTO_WHOLE.drop('OrderDate', axis=1)\n",
    "USMTO_WHOLE = USMTO_WHOLE.drop('ChangedDate', axis=1)\n",
    "USMTO_WHOLE = USMTO_WHOLE.drop('IsCancel', axis=1)\n",
    "USMTO_WHOLE = USMTO_WHOLE.drop('CancelOrderID', axis=1)\n",
    "USMTO_WHOLE = USMTO_WHOLE.drop('hyphen', axis=1)\n",
    "USMTO_WHOLE = USMTO_WHOLE.drop('IsMatch', axis=1)\n",
    "USMTO_WHOLE = USMTO_WHOLE.drop('IsIgnore', axis=1)\n"
   ]
  },
  {
   "cell_type": "code",
   "execution_count": 141,
   "metadata": {
    "collapsed": true
   },
   "outputs": [],
   "source": [
    "#creates columns to indicate supercategory of machine type for each order\n",
    "\n",
    "USMTO_WHOLE['MetalCutting'] = USMTO_WHOLE['TopCategoryName'] == 'METAL CUTTING EQUIPMENT'\n",
    "USMTO_WHOLE.MetalCutting = USMTO_WHOLE.MetalCutting.astype('int')  \n",
    "\n",
    "USMTO_WHOLE['MetalForming'] = USMTO_WHOLE['TopCategoryName'] == 'METAL FORMING & FABRICATING EQUIPMENT'\n",
    "USMTO_WHOLE.MetalForming = USMTO_WHOLE.MetalForming.astype('int')  \n",
    "\n",
    "USMTO_WHOLE['OtherMT'] = USMTO_WHOLE['TopCategoryName'] == 'OTHER MFG. TECHNOLOGY'\n",
    "USMTO_WHOLE.OtherMT = USMTO_WHOLE.OtherMT.astype('int')  \n",
    "\n",
    "USMTO_WHOLE['DaysLate1'] = USMTO_WHOLE['DaysLate'] <= 0\n",
    "USMTO_WHOLE.DaysLate1 = USMTO_WHOLE.DaysLate1.astype('int')  \n",
    "\n",
    "USMTO_WHOLE['DaysLate1'] = USMTO_WHOLE['DaysLate'] <= 0\n",
    "USMTO_WHOLE.DaysLate1 = USMTO_WHOLE.DaysLate1.astype('int')  \n",
    "\n",
    "USMTO_WHOLE['DaysLate1'] = USMTO_WHOLE['DaysLate'] <= 0\n",
    "USMTO_WHOLE.DaysLate1 = USMTO_WHOLE.DaysLate1.astype('int')  \n",
    "\n",
    "USMTO_WHOLE['DaysLate1'] = USMTO_WHOLE['DaysLate'] <= 0\n",
    "USMTO_WHOLE.DaysLate1 = USMTO_WHOLE.DaysLate1.astype('int')  \n"
   ]
  },
  {
   "cell_type": "code",
   "execution_count": 3,
   "metadata": {
    "collapsed": false
   },
   "outputs": [
    {
     "ename": "NameError",
     "evalue": "name 'USMTO_WHOLE' is not defined",
     "output_type": "error",
     "traceback": [
      "\u001b[1;31m---------------------------------------------------------------------------\u001b[0m",
      "\u001b[1;31mNameError\u001b[0m                                 Traceback (most recent call last)",
      "\u001b[1;32m<ipython-input-3-2293ffe664be>\u001b[0m in \u001b[0;36m<module>\u001b[1;34m()\u001b[0m\n\u001b[0;32m      1\u001b[0m \u001b[1;31m#creates columns IsEmailOne, IsEmailTwo, IsCall indicating when reminders are made for a member to submit\u001b[0m\u001b[1;33m\u001b[0m\u001b[1;33m\u001b[0m\u001b[0m\n\u001b[0;32m      2\u001b[0m \u001b[1;33m\u001b[0m\u001b[0m\n\u001b[1;32m----> 3\u001b[1;33m \u001b[0mUSMTO_WHOLE\u001b[0m\u001b[1;33m[\u001b[0m\u001b[1;34m'IsEmailOne'\u001b[0m\u001b[1;33m]\u001b[0m \u001b[1;33m=\u001b[0m \u001b[0mUSMTO_WHOLE\u001b[0m\u001b[1;33m[\u001b[0m\u001b[1;34m'DaysLate'\u001b[0m\u001b[1;33m]\u001b[0m \u001b[1;33m>=\u001b[0m \u001b[1;36m1\u001b[0m\u001b[1;33m\u001b[0m\u001b[0m\n\u001b[0m\u001b[0;32m      4\u001b[0m \u001b[0mUSMTO_WHOLE\u001b[0m\u001b[1;33m.\u001b[0m\u001b[0mIsEmailOne\u001b[0m \u001b[1;33m=\u001b[0m \u001b[0mUSMTO_WHOLE\u001b[0m\u001b[1;33m.\u001b[0m\u001b[0mIsEmailOne\u001b[0m\u001b[1;33m.\u001b[0m\u001b[0mastype\u001b[0m\u001b[1;33m(\u001b[0m\u001b[1;34m'int'\u001b[0m\u001b[1;33m)\u001b[0m\u001b[1;33m\u001b[0m\u001b[0m\n\u001b[0;32m      5\u001b[0m \u001b[1;33m\u001b[0m\u001b[0m\n",
      "\u001b[1;31mNameError\u001b[0m: name 'USMTO_WHOLE' is not defined"
     ]
    }
   ],
   "source": [
    "#creates columns IsEmailOne, IsEmailTwo, IsCall indicating when reminders are made for a member to submit\n",
    "\n",
    "USMTO_WHOLE['IsEmailOne'] = USMTO_WHOLE['DaysLate'] >= 1\n",
    "USMTO_WHOLE.IsEmailOne = USMTO_WHOLE.IsEmailOne.astype('int')       \n",
    "\n",
    "USMTO_WHOLE['IsEmailTwo'] = USMTO_WHOLE['DaysLate'] >= 5\n",
    "USMTO_WHOLE.IsEmailTwo = USMTO_WHOLE.IsEmailTwo.astype('int')    \n",
    "\n",
    "USMTO_WHOLE['IsCall'] = USMTO_WHOLE['DaysLate'] >= 10\n",
    "USMTO_WHOLE.IsCall = USMTO_WHOLE.IsCall.astype('int')\n",
    "\n",
    "USMTO_WHOLE['IsBackfill'] = USMTO_WHOLE['DaysLate'] >= 90\n",
    "USMTO_WHOLE.IsBackfill = USMTO_WHOLE.IsBackfill.astype('int')\n",
    "\n",
    "USMTO_WHOLE.to_csv('../Data/Intermediate.csv')"
   ]
  },
  {
   "cell_type": "code",
   "execution_count": 5,
   "metadata": {
    "collapsed": false
   },
   "outputs": [],
   "source": [
    "%matplotlib inline\n",
    "import pandas as pd\n",
    "import sys\n",
    "import numpy as np\n",
    "import datetime\n",
    "import seaborn as sns\n"
   ]
  },
  {
   "cell_type": "code",
   "execution_count": 6,
   "metadata": {
    "collapsed": true
   },
   "outputs": [],
   "source": [
    "#import ML models\n",
    "\n",
    "from sklearn.preprocessing import StandardScaler\n",
    "from sklearn import cross_validation\n",
    "from sklearn.metrics import classification_report\n",
    "from sklearn.metrics import confusion_matrix\n",
    "from sklearn.metrics import accuracy_score\n",
    "from sklearn.pipeline import Pipeline\n",
    "from sklearn.grid_search import GridSearchCV\n",
    "from sklearn.tree import DecisionTreeClassifier\n",
    "from sklearn.neighbors import KNeighborsClassifier\n",
    "from sklearn.discriminant_analysis import LinearDiscriminantAnalysis\n",
    "from sklearn.naive_bayes import GaussianNB\n",
    "from sklearn.svm import SVC\n",
    "from sklearn.ensemble import AdaBoostClassifier\n",
    "from sklearn.ensemble import GradientBoostingClassifier\n",
    "from sklearn.ensemble import RandomForestClassifier\n"
   ]
  },
  {
   "cell_type": "code",
   "execution_count": 7,
   "metadata": {
    "collapsed": false
   },
   "outputs": [],
   "source": [
    "#caching data\n",
    "\n",
    "USMTO_WHOLE = pd.DataFrame.from_csv('../Data/Intermediate.csv', index_col = False)"
   ]
  },
  {
   "cell_type": "code",
   "execution_count": 8,
   "metadata": {
    "collapsed": false
   },
   "outputs": [
    {
     "data": {
      "text/plain": [
       "<matplotlib.axes._subplots.AxesSubplot at 0x16e59cf8>"
      ]
     },
     "execution_count": 8,
     "metadata": {},
     "output_type": "execute_result"
    },
    {
     "data": {
      "image/png": "[encoded data removed]",
      "text/plain": [
       "<matplotlib.figure.Figure at 0x16e59358>"
      ]
     },
     "metadata": {},
     "output_type": "display_data"
    }
   ],
   "source": [
    "#shows the need to truncate data set\n",
    "\n",
    "USMTO_WHOLE.groupby(['OrderDateFormatted'])['IsEmailOne'].mean().plot(kind = 'line', title = 'Percent Late over Time')"
   ]
  },
  {
   "cell_type": "code",
   "execution_count": 9,
   "metadata": {
    "collapsed": false
   },
   "outputs": [],
   "source": [
    "#tosses the former half of data which may not be relevant\n",
    "\n",
    "USMTO_WHOLE = USMTO_WHOLE[(USMTO_WHOLE.OrderDateFormatted >= '2006-05-01')]"
   ]
  },
  {
   "cell_type": "code",
   "execution_count": 10,
   "metadata": {
    "collapsed": false,
    "scrolled": true
   },
   "outputs": [
    {
     "data": {
      "text/html": [
       "<div>\n",
       "<table border=\"1\" class=\"dataframe\">\n",
       "  <thead>\n",
       "    <tr style=\"text-align: right;\">\n",
       "      <th></th>\n",
       "      <th>Unnamed: 0</th>\n",
       "      <th>Unnamed: 0.1</th>\n",
       "      <th>AAID</th>\n",
       "      <th>NAICSID</th>\n",
       "      <th>Units</th>\n",
       "      <th>TotalSale</th>\n",
       "      <th>IsSubmitted</th>\n",
       "      <th>SubCategory</th>\n",
       "      <th>MachineCode</th>\n",
       "      <th>EntryMonth</th>\n",
       "      <th>...</th>\n",
       "      <th>Close</th>\n",
       "      <th>IP</th>\n",
       "      <th>DaysLate</th>\n",
       "      <th>IsEmailOne</th>\n",
       "      <th>IsEmailTwo</th>\n",
       "      <th>IsCall</th>\n",
       "      <th>IsBackfill</th>\n",
       "      <th>MetalCutting</th>\n",
       "      <th>MetalForming</th>\n",
       "      <th>OtherMT</th>\n",
       "    </tr>\n",
       "  </thead>\n",
       "  <tbody>\n",
       "    <tr>\n",
       "      <th>count</th>\n",
       "      <td>392068.000000</td>\n",
       "      <td>392068.000000</td>\n",
       "      <td>392068.000000</td>\n",
       "      <td>392068.000000</td>\n",
       "      <td>392068.000000</td>\n",
       "      <td>3.920680e+05</td>\n",
       "      <td>392068.000000</td>\n",
       "      <td>392068.000000</td>\n",
       "      <td>392068.000000</td>\n",
       "      <td>392068.000000</td>\n",
       "      <td>...</td>\n",
       "      <td>392068.000000</td>\n",
       "      <td>392068.000000</td>\n",
       "      <td>392068.000000</td>\n",
       "      <td>392068.000000</td>\n",
       "      <td>392068.000000</td>\n",
       "      <td>392068.000000</td>\n",
       "      <td>392068.000000</td>\n",
       "      <td>392068.000000</td>\n",
       "      <td>392068.000000</td>\n",
       "      <td>392068.000000</td>\n",
       "    </tr>\n",
       "    <tr>\n",
       "      <th>mean</th>\n",
       "      <td>198295.718166</td>\n",
       "      <td>198295.718166</td>\n",
       "      <td>101567.163523</td>\n",
       "      <td>451.643654</td>\n",
       "      <td>0.969559</td>\n",
       "      <td>1.511589e+05</td>\n",
       "      <td>0.999612</td>\n",
       "      <td>26.011322</td>\n",
       "      <td>3568.717931</td>\n",
       "      <td>6.866054</td>\n",
       "      <td>...</td>\n",
       "      <td>1424.766320</td>\n",
       "      <td>100.536678</td>\n",
       "      <td>14.907945</td>\n",
       "      <td>0.440000</td>\n",
       "      <td>0.303307</td>\n",
       "      <td>0.213754</td>\n",
       "      <td>0.031885</td>\n",
       "      <td>0.901091</td>\n",
       "      <td>0.043508</td>\n",
       "      <td>0.055401</td>\n",
       "    </tr>\n",
       "    <tr>\n",
       "      <th>std</th>\n",
       "      <td>116256.237362</td>\n",
       "      <td>116256.237362</td>\n",
       "      <td>5267.014327</td>\n",
       "      <td>280.468735</td>\n",
       "      <td>0.234727</td>\n",
       "      <td>2.890960e+05</td>\n",
       "      <td>0.019686</td>\n",
       "      <td>9.751844</td>\n",
       "      <td>384.827128</td>\n",
       "      <td>3.410505</td>\n",
       "      <td>...</td>\n",
       "      <td>282.721568</td>\n",
       "      <td>4.419017</td>\n",
       "      <td>92.569530</td>\n",
       "      <td>0.496388</td>\n",
       "      <td>0.459687</td>\n",
       "      <td>0.409955</td>\n",
       "      <td>0.175694</td>\n",
       "      <td>0.298540</td>\n",
       "      <td>0.203997</td>\n",
       "      <td>0.228762</td>\n",
       "    </tr>\n",
       "    <tr>\n",
       "      <th>min</th>\n",
       "      <td>0.000000</td>\n",
       "      <td>0.000000</td>\n",
       "      <td>123.000000</td>\n",
       "      <td>1.000000</td>\n",
       "      <td>-1.000000</td>\n",
       "      <td>-9.861252e+06</td>\n",
       "      <td>0.000000</td>\n",
       "      <td>1.000000</td>\n",
       "      <td>3541.205000</td>\n",
       "      <td>1.000000</td>\n",
       "      <td>...</td>\n",
       "      <td>735.090027</td>\n",
       "      <td>87.412500</td>\n",
       "      <td>-39.000000</td>\n",
       "      <td>0.000000</td>\n",
       "      <td>0.000000</td>\n",
       "      <td>0.000000</td>\n",
       "      <td>0.000000</td>\n",
       "      <td>0.000000</td>\n",
       "      <td>0.000000</td>\n",
       "      <td>0.000000</td>\n",
       "    </tr>\n",
       "    <tr>\n",
       "      <th>25%</th>\n",
       "      <td>98016.750000</td>\n",
       "      <td>98016.750000</td>\n",
       "      <td>100132.000000</td>\n",
       "      <td>209.000000</td>\n",
       "      <td>1.000000</td>\n",
       "      <td>4.598594e+04</td>\n",
       "      <td>1.000000</td>\n",
       "      <td>23.000000</td>\n",
       "      <td>3541.540000</td>\n",
       "      <td>4.000000</td>\n",
       "      <td>...</td>\n",
       "      <td>1267.380005</td>\n",
       "      <td>97.747400</td>\n",
       "      <td>-4.000000</td>\n",
       "      <td>0.000000</td>\n",
       "      <td>0.000000</td>\n",
       "      <td>0.000000</td>\n",
       "      <td>0.000000</td>\n",
       "      <td>1.000000</td>\n",
       "      <td>0.000000</td>\n",
       "      <td>0.000000</td>\n",
       "    </tr>\n",
       "    <tr>\n",
       "      <th>50%</th>\n",
       "      <td>196033.500000</td>\n",
       "      <td>196033.500000</td>\n",
       "      <td>100333.000000</td>\n",
       "      <td>248.000000</td>\n",
       "      <td>1.000000</td>\n",
       "      <td>8.190807e+04</td>\n",
       "      <td>1.000000</td>\n",
       "      <td>23.000000</td>\n",
       "      <td>3541.704000</td>\n",
       "      <td>7.000000</td>\n",
       "      <td>...</td>\n",
       "      <td>1397.910034</td>\n",
       "      <td>101.601600</td>\n",
       "      <td>0.000000</td>\n",
       "      <td>0.000000</td>\n",
       "      <td>0.000000</td>\n",
       "      <td>0.000000</td>\n",
       "      <td>0.000000</td>\n",
       "      <td>1.000000</td>\n",
       "      <td>0.000000</td>\n",
       "      <td>0.000000</td>\n",
       "    </tr>\n",
       "    <tr>\n",
       "      <th>75%</th>\n",
       "      <td>298318.250000</td>\n",
       "      <td>298318.250000</td>\n",
       "      <td>100525.000000</td>\n",
       "      <td>749.000000</td>\n",
       "      <td>1.000000</td>\n",
       "      <td>1.650000e+05</td>\n",
       "      <td>1.000000</td>\n",
       "      <td>36.000000</td>\n",
       "      <td>3541.708000</td>\n",
       "      <td>10.000000</td>\n",
       "      <td>...</td>\n",
       "      <td>1549.380005</td>\n",
       "      <td>104.172000</td>\n",
       "      <td>7.000000</td>\n",
       "      <td>1.000000</td>\n",
       "      <td>1.000000</td>\n",
       "      <td>0.000000</td>\n",
       "      <td>0.000000</td>\n",
       "      <td>1.000000</td>\n",
       "      <td>0.000000</td>\n",
       "      <td>0.000000</td>\n",
       "    </tr>\n",
       "    <tr>\n",
       "      <th>max</th>\n",
       "      <td>406559.000000</td>\n",
       "      <td>406559.000000</td>\n",
       "      <td>123556.000000</td>\n",
       "      <td>924.000000</td>\n",
       "      <td>1.000000</td>\n",
       "      <td>4.475133e+07</td>\n",
       "      <td>1.000000</td>\n",
       "      <td>44.000000</td>\n",
       "      <td>9999.999000</td>\n",
       "      <td>12.000000</td>\n",
       "      <td>...</td>\n",
       "      <td>2067.560059</td>\n",
       "      <td>106.686800</td>\n",
       "      <td>3190.000000</td>\n",
       "      <td>1.000000</td>\n",
       "      <td>1.000000</td>\n",
       "      <td>1.000000</td>\n",
       "      <td>1.000000</td>\n",
       "      <td>1.000000</td>\n",
       "      <td>1.000000</td>\n",
       "      <td>1.000000</td>\n",
       "    </tr>\n",
       "  </tbody>\n",
       "</table>\n",
       "<p>8 rows × 21 columns</p>\n",
       "</div>"
      ],
      "text/plain": [
       "          Unnamed: 0   Unnamed: 0.1           AAID        NAICSID  \\\n",
       "count  392068.000000  392068.000000  392068.000000  392068.000000   \n",
       "mean   198295.718166  198295.718166  101567.163523     451.643654   \n",
       "std    116256.237362  116256.237362    5267.014327     280.468735   \n",
       "min         0.000000       0.000000     123.000000       1.000000   \n",
       "25%     98016.750000   98016.750000  100132.000000     209.000000   \n",
       "50%    196033.500000  196033.500000  100333.000000     248.000000   \n",
       "75%    298318.250000  298318.250000  100525.000000     749.000000   \n",
       "max    406559.000000  406559.000000  123556.000000     924.000000   \n",
       "\n",
       "               Units     TotalSale    IsSubmitted    SubCategory  \\\n",
       "count  392068.000000  3.920680e+05  392068.000000  392068.000000   \n",
       "mean        0.969559  1.511589e+05       0.999612      26.011322   \n",
       "std         0.234727  2.890960e+05       0.019686       9.751844   \n",
       "min        -1.000000 -9.861252e+06       0.000000       1.000000   \n",
       "25%         1.000000  4.598594e+04       1.000000      23.000000   \n",
       "50%         1.000000  8.190807e+04       1.000000      23.000000   \n",
       "75%         1.000000  1.650000e+05       1.000000      36.000000   \n",
       "max         1.000000  4.475133e+07       1.000000      44.000000   \n",
       "\n",
       "         MachineCode     EntryMonth      ...                Close  \\\n",
       "count  392068.000000  392068.000000      ...        392068.000000   \n",
       "mean     3568.717931       6.866054      ...          1424.766320   \n",
       "std       384.827128       3.410505      ...           282.721568   \n",
       "min      3541.205000       1.000000      ...           735.090027   \n",
       "25%      3541.540000       4.000000      ...          1267.380005   \n",
       "50%      3541.704000       7.000000      ...          1397.910034   \n",
       "75%      3541.708000      10.000000      ...          1549.380005   \n",
       "max      9999.999000      12.000000      ...          2067.560059   \n",
       "\n",
       "                  IP       DaysLate     IsEmailOne     IsEmailTwo  \\\n",
       "count  392068.000000  392068.000000  392068.000000  392068.000000   \n",
       "mean      100.536678      14.907945       0.440000       0.303307   \n",
       "std         4.419017      92.569530       0.496388       0.459687   \n",
       "min        87.412500     -39.000000       0.000000       0.000000   \n",
       "25%        97.747400      -4.000000       0.000000       0.000000   \n",
       "50%       101.601600       0.000000       0.000000       0.000000   \n",
       "75%       104.172000       7.000000       1.000000       1.000000   \n",
       "max       106.686800    3190.000000       1.000000       1.000000   \n",
       "\n",
       "              IsCall     IsBackfill   MetalCutting   MetalForming  \\\n",
       "count  392068.000000  392068.000000  392068.000000  392068.000000   \n",
       "mean        0.213754       0.031885       0.901091       0.043508   \n",
       "std         0.409955       0.175694       0.298540       0.203997   \n",
       "min         0.000000       0.000000       0.000000       0.000000   \n",
       "25%         0.000000       0.000000       1.000000       0.000000   \n",
       "50%         0.000000       0.000000       1.000000       0.000000   \n",
       "75%         0.000000       0.000000       1.000000       0.000000   \n",
       "max         1.000000       1.000000       1.000000       1.000000   \n",
       "\n",
       "             OtherMT  \n",
       "count  392068.000000  \n",
       "mean        0.055401  \n",
       "std         0.228762  \n",
       "min         0.000000  \n",
       "25%         0.000000  \n",
       "50%         0.000000  \n",
       "75%         0.000000  \n",
       "max         1.000000  \n",
       "\n",
       "[8 rows x 21 columns]"
      ]
     },
     "execution_count": 10,
     "metadata": {},
     "output_type": "execute_result"
    }
   ],
   "source": [
    "#describes features before tossing some\n",
    "\n",
    "USMTO_WHOLE.describe()"
   ]
  },
  {
   "cell_type": "code",
   "execution_count": 11,
   "metadata": {
    "collapsed": false
   },
   "outputs": [],
   "source": [
    "#create two new tables, one without outliers (outside 2 stdev), and one without backfillers (defined as submitted later than 100 days - per company definition)\n",
    "\n",
    "USMTO_NO_SUBMIT_OUTLIERS = USMTO_WHOLE[np.abs(USMTO_WHOLE.DaysLate-USMTO_WHOLE.DaysLate.mean())<=(2*USMTO_WHOLE.DaysLate.std())] \n",
    "USMTO_NO_SUBMIT_BACKFILL = USMTO_WHOLE[USMTO_WHOLE.DaysLate <= 90]\n",
    "\n",
    "#source: http://stackoverflow.com/questions/23199796/detect-and-exclude-outliers-in-pandas-dataframe\n"
   ]
  },
  {
   "cell_type": "code",
   "execution_count": 12,
   "metadata": {
    "collapsed": false,
    "scrolled": false
   },
   "outputs": [
    {
     "data": {
      "text/plain": [
       "<matplotlib.axes._subplots.AxesSubplot at 0xb09e240>"
      ]
     },
     "execution_count": 12,
     "metadata": {},
     "output_type": "execute_result"
    },
    {
     "data": {
      "image/png": "[encoded data removed]",
      "text/plain": [
       "<matplotlib.figure.Figure at 0xb08e2b0>"
      ]
     },
     "metadata": {},
     "output_type": "display_data"
    }
   ],
   "source": [
    "#Plots days late in a time series. Exhibit 1A, to be shared with team.\n",
    "\n",
    "USMTO_NO_SUBMIT_BACKFILL.groupby(['OrderDateFormatted'])['DaysLate'].mean().plot(kind = 'line', title = 'Mean Days Late per Month Over Time')"
   ]
  },
  {
   "cell_type": "code",
   "execution_count": 13,
   "metadata": {
    "collapsed": false,
    "scrolled": true
   },
   "outputs": [
    {
     "data": {
      "text/plain": [
       "<matplotlib.axes._subplots.AxesSubplot at 0xb92e908>"
      ]
     },
     "execution_count": 13,
     "metadata": {},
     "output_type": "execute_result"
    },
    {
     "data": {
      "image/png": "[encoded data removed]",
      "text/plain": [
       "<matplotlib.figure.Figure at 0xb942898>"
      ]
     },
     "metadata": {},
     "output_type": "display_data"
    }
   ],
   "source": [
    "#plot order submission trend. Exhibit 2\n",
    "\n",
    "USMTO_WHOLE.groupby(['OrderDateFormatted'])['IsSubmitted'].sum().plot(kind = 'line', title = 'Orders Submitted Over Time')"
   ]
  },
  {
   "cell_type": "code",
   "execution_count": 14,
   "metadata": {
    "collapsed": false,
    "scrolled": false
   },
   "outputs": [
    {
     "data": {
      "text/plain": [
       "<matplotlib.axes._subplots.AxesSubplot at 0xb96c198>"
      ]
     },
     "execution_count": 14,
     "metadata": {},
     "output_type": "execute_result"
    },
    {
     "data": {
      "image/png": "[encoded data removed]",
      "text/plain": [
       "<matplotlib.figure.Figure at 0xb9ac278>"
      ]
     },
     "metadata": {},
     "output_type": "display_data"
    }
   ],
   "source": [
    "#plots distribution of days late\n",
    "\n",
    "sns.violinplot(USMTO_NO_SUBMIT_OUTLIERS.DaysLate, title = 'Distribution of Days Late, 1997 to present')\n"
   ]
  },
  {
   "cell_type": "code",
   "execution_count": 15,
   "metadata": {
    "collapsed": false,
    "scrolled": false
   },
   "outputs": [
    {
     "data": {
      "text/html": [
       "<div>\n",
       "<table border=\"1\" class=\"dataframe\">\n",
       "  <thead>\n",
       "    <tr style=\"text-align: right;\">\n",
       "      <th></th>\n",
       "      <th>AAID</th>\n",
       "      <th>OrderDateFormatted</th>\n",
       "      <th>DaysLate</th>\n",
       "      <th>IsEmailOne</th>\n",
       "      <th>IsEmailTwo</th>\n",
       "      <th>IsCall</th>\n",
       "      <th>IsBackfill</th>\n",
       "      <th>Close</th>\n",
       "      <th>IP</th>\n",
       "      <th>Units</th>\n",
       "      <th>TotalSaleAvg</th>\n",
       "      <th>TotalSale</th>\n",
       "    </tr>\n",
       "  </thead>\n",
       "  <tbody>\n",
       "    <tr>\n",
       "      <th>0</th>\n",
       "      <td>123</td>\n",
       "      <td>2007-12-01 00:00:00</td>\n",
       "      <td>522.0</td>\n",
       "      <td>1</td>\n",
       "      <td>1</td>\n",
       "      <td>1</td>\n",
       "      <td>1</td>\n",
       "      <td>1468.359985</td>\n",
       "      <td>105.7256</td>\n",
       "      <td>13</td>\n",
       "      <td>18461.538462</td>\n",
       "      <td>240000.0</td>\n",
       "    </tr>\n",
       "    <tr>\n",
       "      <th>1</th>\n",
       "      <td>123</td>\n",
       "      <td>2010-10-01 00:00:00</td>\n",
       "      <td>673.0</td>\n",
       "      <td>1</td>\n",
       "      <td>1</td>\n",
       "      <td>1</td>\n",
       "      <td>1</td>\n",
       "      <td>1183.260010</td>\n",
       "      <td>95.6362</td>\n",
       "      <td>2</td>\n",
       "      <td>100000.000000</td>\n",
       "      <td>200000.0</td>\n",
       "    </tr>\n",
       "    <tr>\n",
       "      <th>2</th>\n",
       "      <td>100005</td>\n",
       "      <td>2006-05-01 00:00:00</td>\n",
       "      <td>-5.0</td>\n",
       "      <td>0</td>\n",
       "      <td>0</td>\n",
       "      <td>0</td>\n",
       "      <td>0</td>\n",
       "      <td>1270.089966</td>\n",
       "      <td>102.1531</td>\n",
       "      <td>7</td>\n",
       "      <td>131438.714286</td>\n",
       "      <td>920071.0</td>\n",
       "    </tr>\n",
       "    <tr>\n",
       "      <th>3</th>\n",
       "      <td>100005</td>\n",
       "      <td>2006-06-01 00:00:00</td>\n",
       "      <td>1.0</td>\n",
       "      <td>1</td>\n",
       "      <td>0</td>\n",
       "      <td>0</td>\n",
       "      <td>0</td>\n",
       "      <td>1270.199951</td>\n",
       "      <td>102.5220</td>\n",
       "      <td>2</td>\n",
       "      <td>153945.500000</td>\n",
       "      <td>307891.0</td>\n",
       "    </tr>\n",
       "    <tr>\n",
       "      <th>4</th>\n",
       "      <td>100005</td>\n",
       "      <td>2006-07-01 00:00:00</td>\n",
       "      <td>-8.0</td>\n",
       "      <td>0</td>\n",
       "      <td>0</td>\n",
       "      <td>0</td>\n",
       "      <td>0</td>\n",
       "      <td>1276.660034</td>\n",
       "      <td>102.5057</td>\n",
       "      <td>11</td>\n",
       "      <td>57971.090909</td>\n",
       "      <td>637682.0</td>\n",
       "    </tr>\n",
       "  </tbody>\n",
       "</table>\n",
       "</div>"
      ],
      "text/plain": [
       "     AAID   OrderDateFormatted  DaysLate  IsEmailOne  IsEmailTwo  IsCall  \\\n",
       "0     123  2007-12-01 00:00:00     522.0           1           1       1   \n",
       "1     123  2010-10-01 00:00:00     673.0           1           1       1   \n",
       "2  100005  2006-05-01 00:00:00      -5.0           0           0       0   \n",
       "3  100005  2006-06-01 00:00:00       1.0           1           0       0   \n",
       "4  100005  2006-07-01 00:00:00      -8.0           0           0       0   \n",
       "\n",
       "   IsBackfill        Close        IP  Units   TotalSaleAvg  TotalSale  \n",
       "0           1  1468.359985  105.7256     13   18461.538462   240000.0  \n",
       "1           1  1183.260010   95.6362      2  100000.000000   200000.0  \n",
       "2           0  1270.089966  102.1531      7  131438.714286   920071.0  \n",
       "3           0  1270.199951  102.5220      2  153945.500000   307891.0  \n",
       "4           0  1276.660034  102.5057     11   57971.090909   637682.0  "
      ]
     },
     "execution_count": 15,
     "metadata": {},
     "output_type": "execute_result"
    }
   ],
   "source": [
    "#Creates table by AAID and OrderDateFormatted\n",
    "\n",
    "AAID_BY_MONTH = USMTO_WHOLE.groupby(['AAID','OrderDateFormatted'])['DaysLate','TotalSale','IsEmailOne', 'IsEmailTwo', 'IsCall', 'IsBackfill','Close','IP'].mean()\n",
    "AAID_BY_MONTH.reset_index(level=1, inplace=True)\n",
    "AAID_BY_MONTH.reset_index(level=1, inplace=True)\n",
    "AAID_BY_MONTH_2 = USMTO_WHOLE.groupby(['AAID','OrderDateFormatted'])['Units','TotalSale'].sum()\n",
    "AAID_BY_MONTH_2.reset_index(level=1, inplace=True)\n",
    "AAID_BY_MONTH_2.reset_index(level=1, inplace=True)\n",
    "AAID_BY_MONTH = AAID_BY_MONTH.merge(AAID_BY_MONTH_2, how = 'inner', on = ['AAID','OrderDateFormatted'])\n",
    "AAID_BY_MONTH['TotalSaleAvg'] = AAID_BY_MONTH['TotalSale_x']\n",
    "AAID_BY_MONTH['TotalSale'] = AAID_BY_MONTH['TotalSale_y']\n",
    "AAID_BY_MONTH = AAID_BY_MONTH.drop('TotalSale_x', axis = 1)\n",
    "AAID_BY_MONTH = AAID_BY_MONTH.drop('TotalSale_y', axis = 1)\n",
    "AAID_BY_MONTH.head()"
   ]
  },
  {
   "cell_type": "code",
   "execution_count": 16,
   "metadata": {
    "collapsed": false
   },
   "outputs": [],
   "source": [
    "#imports tables to work on, created from CreateAAIDByMonth\n",
    "\n",
    "#USMTO_WHOLE = pd.DataFrame.from_csv('../Data/USMTO_WHOLE.csv', index_col = False)\n",
    "AAID_BY_MONTH_NO_BACKFILL = pd.DataFrame.from_csv('../Data/result.csv', index_col = False)\n",
    "#AAID_BY_MONTH_NO_BACKFILL['DaysLateLastThree'] = pd.to_numeric(AAID_BY_MONTH_NO_BACKFILL['DaysLateLastThree'])\n",
    "#AAID_BY_MONTH_NO_BACKFILL['TotalSaleLastThree'] = pd.to_numeric(AAID_BY_MONTH_NO_BACKFILL['TotalSaleLastThree'])\n",
    "AAID_BY_MONTH_NO_BACKFILL = AAID_BY_MONTH_NO_BACKFILL.fillna(value = 0)\n",
    "#AAID_BY_MONTH = pd.DataFrame.from_csv('../Data/AAID_BY_MONTH.csv', index_col = False)\n"
   ]
  },
  {
   "cell_type": "code",
   "execution_count": 17,
   "metadata": {
    "collapsed": false,
    "scrolled": true
   },
   "outputs": [
    {
     "data": {
      "text/plain": [
       "Index(['Unnamed: 0', 'AAID', 'OrderDateFormatted', 'DaysLate', 'IsEmailOne',\n",
       "       'IsEmailTwo', 'IsCall', 'IsBackfill', 'Close', 'IP', 'Units',\n",
       "       'MetalCutting', 'MetalForming', 'OtherMT', 'TotalSaleAvg', 'TotalSale',\n",
       "       'UnitsLast', 'IsCallLast', 'TotalSaleAvgLast', 'TotalSaleLastThree',\n",
       "       'DaysLateLastThree', 'DaysLateLast', 'MetalCuttingLast',\n",
       "       'MetalFormingLast', 'OtherMTLast'],\n",
       "      dtype='object')"
      ]
     },
     "execution_count": 17,
     "metadata": {},
     "output_type": "execute_result"
    }
   ],
   "source": [
    "#look at features\n",
    "\n",
    "AAID_BY_MONTH_NO_BACKFILL.columns"
   ]
  },
  {
   "cell_type": "code",
   "execution_count": 18,
   "metadata": {
    "collapsed": false
   },
   "outputs": [],
   "source": [
    "#exports days late by aaid for further analysis\n",
    "\n",
    "b = AAID_BY_MONTH_NO_BACKFILL.groupby(['AAID'])['DaysLate'].mean()\n",
    "c = pd.DataFrame(b)\n",
    "c.to_csv('../Data/DaysLateByAAID',sep = ',')"
   ]
  },
  {
   "cell_type": "code",
   "execution_count": 19,
   "metadata": {
    "collapsed": false
   },
   "outputs": [],
   "source": [
    "#scatter matrix identifying key features - target excluded\n",
    "PAIRPLOT2 = AAID_BY_MONTH_NO_BACKFILL\n",
    "PAIRPLOT2 = PAIRPLOT2.drop('Unnamed: 0',axis = 1)\n",
    "PAIRPLOT2 = PAIRPLOT2.drop('AAID', axis = 1)\n",
    "PAIRPLOT2 = PAIRPLOT2.drop('OrderDateFormatted', axis = 1)\n",
    "PAIRPLOT2 = PAIRPLOT2.drop('IsEmailOne', axis = 1)\n",
    "PAIRPLOT2 = PAIRPLOT2.drop('IsEmailTwo', axis = 1)\n",
    "PAIRPLOT2 = PAIRPLOT2.drop('IsBackfill', axis = 1)\n",
    "PAIRPLOT2 = PAIRPLOT2.drop('TotalSaleAvg', axis = 1)\n",
    "PAIRPLOT2 = PAIRPLOT2.drop('Units', axis = 1)\n",
    "PAIRPLOT2 = PAIRPLOT2.drop('TotalSale', axis = 1)\n",
    "PAIRPLOT2 = PAIRPLOT2.drop('MetalCutting', axis = 1)\n",
    "PAIRPLOT2 = PAIRPLOT2.drop('MetalForming', axis = 1)\n",
    "PAIRPLOT2 = PAIRPLOT2.drop('OtherMT', axis = 1)\n",
    "PAIRPLOT2 = PAIRPLOT2.drop('MetalCuttingLast', axis = 1)\n",
    "PAIRPLOT2 = PAIRPLOT2.drop('MetalFormingLast', axis = 1)\n",
    "PAIRPLOT2 = PAIRPLOT2.drop('OtherMTLast', axis = 1)\n",
    "\n"
   ]
  },
  {
   "cell_type": "code",
   "execution_count": 20,
   "metadata": {
    "collapsed": false,
    "scrolled": false
   },
   "outputs": [
    {
     "data": {
      "text/plain": [
       "<matplotlib.axes._subplots.AxesSubplot at 0xc070390>"
      ]
     },
     "execution_count": 20,
     "metadata": {},
     "output_type": "execute_result"
    },
    {
     "data": {
      "image/png": "[encoded data removed]",
      "text/plain": [
       "<matplotlib.figure.Figure at 0xb96cf98>"
      ]
     },
     "metadata": {},
     "output_type": "display_data"
    }
   ],
   "source": [
    "#DaysLate Last vs Days Late (suspicious line - business reason for this, not data error)\n",
    "\n",
    "AAID_BY_MONTH_NO_BACKFILL.plot.scatter('DaysLate','DaysLateLast')"
   ]
  },
  {
   "cell_type": "code",
   "execution_count": 21,
   "metadata": {
    "collapsed": false
   },
   "outputs": [],
   "source": [
    "#prep for correlation matrix - target included. also the dataframe for machine learning algorithms\n",
    "\n",
    "corr2 = PAIRPLOT2.corr(method = 'pearson')"
   ]
  },
  {
   "cell_type": "code",
   "execution_count": 22,
   "metadata": {
    "collapsed": false,
    "scrolled": true
   },
   "outputs": [
    {
     "data": {
      "text/plain": [
       "IsCall\n",
       "0    12321\n",
       "1     3719\n",
       "dtype: int64"
      ]
     },
     "execution_count": 22,
     "metadata": {},
     "output_type": "execute_result"
    }
   ],
   "source": [
    "#Class Distribution\n",
    "\n",
    "AAID_BY_MONTH_NO_BACKFILL.groupby('IsCall').size()"
   ]
  },
  {
   "cell_type": "code",
   "execution_count": 23,
   "metadata": {
    "collapsed": false
   },
   "outputs": [
    {
     "data": {
      "text/plain": [
       "DaysLate               2.466051\n",
       "IsCall                 1.270878\n",
       "Close                  0.369165\n",
       "IP                    -0.724223\n",
       "UnitsLast             11.925780\n",
       "IsCallLast             1.313808\n",
       "TotalSaleAvgLast      12.234455\n",
       "TotalSaleLastThree     5.966600\n",
       "DaysLateLastThree      1.865813\n",
       "DaysLateLast           2.516090\n",
       "dtype: float64"
      ]
     },
     "execution_count": 23,
     "metadata": {},
     "output_type": "execute_result"
    }
   ],
   "source": [
    "#Skew of Attributes\n",
    "\n",
    "PAIRPLOT2.skew()"
   ]
  },
  {
   "cell_type": "code",
   "execution_count": 24,
   "metadata": {
    "collapsed": false,
    "scrolled": false
   },
   "outputs": [
    {
     "data": {
      "text/html": [
       "<div>\n",
       "<table border=\"1\" class=\"dataframe\">\n",
       "  <thead>\n",
       "    <tr style=\"text-align: right;\">\n",
       "      <th></th>\n",
       "      <th>DaysLate</th>\n",
       "      <th>IsCall</th>\n",
       "      <th>Close</th>\n",
       "      <th>IP</th>\n",
       "      <th>UnitsLast</th>\n",
       "      <th>IsCallLast</th>\n",
       "      <th>TotalSaleAvgLast</th>\n",
       "      <th>TotalSaleLastThree</th>\n",
       "      <th>DaysLateLastThree</th>\n",
       "      <th>DaysLateLast</th>\n",
       "    </tr>\n",
       "  </thead>\n",
       "  <tbody>\n",
       "    <tr>\n",
       "      <th>DaysLate</th>\n",
       "      <td>1.000000</td>\n",
       "      <td>0.783191</td>\n",
       "      <td>0.068781</td>\n",
       "      <td>0.108083</td>\n",
       "      <td>-0.017268</td>\n",
       "      <td>0.382425</td>\n",
       "      <td>0.016819</td>\n",
       "      <td>-0.009549</td>\n",
       "      <td>0.446537</td>\n",
       "      <td>0.465693</td>\n",
       "    </tr>\n",
       "    <tr>\n",
       "      <th>IsCall</th>\n",
       "      <td>0.783191</td>\n",
       "      <td>1.000000</td>\n",
       "      <td>0.077764</td>\n",
       "      <td>0.122950</td>\n",
       "      <td>-0.028395</td>\n",
       "      <td>0.461439</td>\n",
       "      <td>0.030896</td>\n",
       "      <td>-0.011536</td>\n",
       "      <td>0.451431</td>\n",
       "      <td>0.449449</td>\n",
       "    </tr>\n",
       "    <tr>\n",
       "      <th>Close</th>\n",
       "      <td>0.068781</td>\n",
       "      <td>0.077764</td>\n",
       "      <td>1.000000</td>\n",
       "      <td>0.789642</td>\n",
       "      <td>0.036185</td>\n",
       "      <td>0.068478</td>\n",
       "      <td>0.028630</td>\n",
       "      <td>0.067036</td>\n",
       "      <td>0.066066</td>\n",
       "      <td>0.060961</td>\n",
       "    </tr>\n",
       "    <tr>\n",
       "      <th>IP</th>\n",
       "      <td>0.108083</td>\n",
       "      <td>0.122950</td>\n",
       "      <td>0.789642</td>\n",
       "      <td>1.000000</td>\n",
       "      <td>0.045953</td>\n",
       "      <td>0.108129</td>\n",
       "      <td>0.030492</td>\n",
       "      <td>0.076427</td>\n",
       "      <td>0.098946</td>\n",
       "      <td>0.095675</td>\n",
       "    </tr>\n",
       "    <tr>\n",
       "      <th>UnitsLast</th>\n",
       "      <td>-0.017268</td>\n",
       "      <td>-0.028395</td>\n",
       "      <td>0.036185</td>\n",
       "      <td>0.045953</td>\n",
       "      <td>1.000000</td>\n",
       "      <td>-0.023003</td>\n",
       "      <td>-0.053644</td>\n",
       "      <td>0.779144</td>\n",
       "      <td>-0.010440</td>\n",
       "      <td>-0.012965</td>\n",
       "    </tr>\n",
       "    <tr>\n",
       "      <th>IsCallLast</th>\n",
       "      <td>0.382425</td>\n",
       "      <td>0.461439</td>\n",
       "      <td>0.068478</td>\n",
       "      <td>0.108129</td>\n",
       "      <td>-0.023003</td>\n",
       "      <td>1.000000</td>\n",
       "      <td>0.032428</td>\n",
       "      <td>-0.003221</td>\n",
       "      <td>0.648986</td>\n",
       "      <td>0.782168</td>\n",
       "    </tr>\n",
       "    <tr>\n",
       "      <th>TotalSaleAvgLast</th>\n",
       "      <td>0.016819</td>\n",
       "      <td>0.030896</td>\n",
       "      <td>0.028630</td>\n",
       "      <td>0.030492</td>\n",
       "      <td>-0.053644</td>\n",
       "      <td>0.032428</td>\n",
       "      <td>1.000000</td>\n",
       "      <td>0.112346</td>\n",
       "      <td>0.032234</td>\n",
       "      <td>0.023663</td>\n",
       "    </tr>\n",
       "    <tr>\n",
       "      <th>TotalSaleLastThree</th>\n",
       "      <td>-0.009549</td>\n",
       "      <td>-0.011536</td>\n",
       "      <td>0.067036</td>\n",
       "      <td>0.076427</td>\n",
       "      <td>0.779144</td>\n",
       "      <td>-0.003221</td>\n",
       "      <td>0.112346</td>\n",
       "      <td>1.000000</td>\n",
       "      <td>0.018902</td>\n",
       "      <td>-0.002777</td>\n",
       "    </tr>\n",
       "    <tr>\n",
       "      <th>DaysLateLastThree</th>\n",
       "      <td>0.446537</td>\n",
       "      <td>0.451431</td>\n",
       "      <td>0.066066</td>\n",
       "      <td>0.098946</td>\n",
       "      <td>-0.010440</td>\n",
       "      <td>0.648986</td>\n",
       "      <td>0.032234</td>\n",
       "      <td>0.018902</td>\n",
       "      <td>1.000000</td>\n",
       "      <td>0.706479</td>\n",
       "    </tr>\n",
       "    <tr>\n",
       "      <th>DaysLateLast</th>\n",
       "      <td>0.465693</td>\n",
       "      <td>0.449449</td>\n",
       "      <td>0.060961</td>\n",
       "      <td>0.095675</td>\n",
       "      <td>-0.012965</td>\n",
       "      <td>0.782168</td>\n",
       "      <td>0.023663</td>\n",
       "      <td>-0.002777</td>\n",
       "      <td>0.706479</td>\n",
       "      <td>1.000000</td>\n",
       "    </tr>\n",
       "  </tbody>\n",
       "</table>\n",
       "</div>"
      ],
      "text/plain": [
       "                    DaysLate    IsCall     Close        IP  UnitsLast  \\\n",
       "DaysLate            1.000000  0.783191  0.068781  0.108083  -0.017268   \n",
       "IsCall              0.783191  1.000000  0.077764  0.122950  -0.028395   \n",
       "Close               0.068781  0.077764  1.000000  0.789642   0.036185   \n",
       "IP                  0.108083  0.122950  0.789642  1.000000   0.045953   \n",
       "UnitsLast          -0.017268 -0.028395  0.036185  0.045953   1.000000   \n",
       "IsCallLast          0.382425  0.461439  0.068478  0.108129  -0.023003   \n",
       "TotalSaleAvgLast    0.016819  0.030896  0.028630  0.030492  -0.053644   \n",
       "TotalSaleLastThree -0.009549 -0.011536  0.067036  0.076427   0.779144   \n",
       "DaysLateLastThree   0.446537  0.451431  0.066066  0.098946  -0.010440   \n",
       "DaysLateLast        0.465693  0.449449  0.060961  0.095675  -0.012965   \n",
       "\n",
       "                    IsCallLast  TotalSaleAvgLast  TotalSaleLastThree  \\\n",
       "DaysLate              0.382425          0.016819           -0.009549   \n",
       "IsCall                0.461439          0.030896           -0.011536   \n",
       "Close                 0.068478          0.028630            0.067036   \n",
       "IP                    0.108129          0.030492            0.076427   \n",
       "UnitsLast            -0.023003         -0.053644            0.779144   \n",
       "IsCallLast            1.000000          0.032428           -0.003221   \n",
       "TotalSaleAvgLast      0.032428          1.000000            0.112346   \n",
       "TotalSaleLastThree   -0.003221          0.112346            1.000000   \n",
       "DaysLateLastThree     0.648986          0.032234            0.018902   \n",
       "DaysLateLast          0.782168          0.023663           -0.002777   \n",
       "\n",
       "                    DaysLateLastThree  DaysLateLast  \n",
       "DaysLate                     0.446537      0.465693  \n",
       "IsCall                       0.451431      0.449449  \n",
       "Close                        0.066066      0.060961  \n",
       "IP                           0.098946      0.095675  \n",
       "UnitsLast                   -0.010440     -0.012965  \n",
       "IsCallLast                   0.648986      0.782168  \n",
       "TotalSaleAvgLast             0.032234      0.023663  \n",
       "TotalSaleLastThree           0.018902     -0.002777  \n",
       "DaysLateLastThree            1.000000      0.706479  \n",
       "DaysLateLast                 0.706479      1.000000  "
      ]
     },
     "execution_count": 24,
     "metadata": {},
     "output_type": "execute_result"
    }
   ],
   "source": [
    "#correlation table\n",
    "\n",
    "PAIRPLOT2.corr()"
   ]
  },
  {
   "cell_type": "code",
   "execution_count": 25,
   "metadata": {
    "collapsed": false,
    "scrolled": false
   },
   "outputs": [
    {
     "data": {
      "text/plain": [
       "<matplotlib.axes._subplots.AxesSubplot at 0xc6bc470>"
      ]
     },
     "execution_count": 25,
     "metadata": {},
     "output_type": "execute_result"
    },
    {
     "data": {
      "image/png": "[encoded data removed]",
      "text/plain": [
       "<matplotlib.figure.Figure at 0xc202da0>"
      ]
     },
     "metadata": {},
     "output_type": "display_data"
    }
   ],
   "source": [
    "#Correlation Matrix Plot\n",
    "import matplotlib.pyplot as plt\n",
    "\n",
    "# Generate a mask for the upper triangle\n",
    "mask = np.zeros_like(corr2, dtype=np.bool)\n",
    "mask[np.triu_indices_from(mask)] = True\n",
    "\n",
    "# Set up the matplotlib figure\n",
    "f, ax = plt.subplots(figsize=(15,15))\n",
    "\n",
    "# Generate a custom diverging colormap\n",
    "cmap = sns.diverging_palette(220, 10, as_cmap=True)\n",
    "\n",
    "# Draw the heatmap with the mask and correct aspect ratio\n",
    "sns.heatmap(corr2, mask=mask, cmap=cmap, vmax=.3,\n",
    "            square=True, xticklabels=True, yticklabels=True,\n",
    "            linewidths=.5, cbar_kws={\"shrink\": .5}, ax=ax)\n"
   ]
  },
  {
   "cell_type": "code",
   "execution_count": 26,
   "metadata": {
    "collapsed": false,
    "scrolled": true
   },
   "outputs": [],
   "source": [
    "#rescales all data to be between 0 and 1 and readies it for further processing - in progress\n",
    "\n",
    "import scipy\n",
    "\n",
    "from sklearn.preprocessing import MinMaxScaler\n",
    "\n",
    "array = PAIRPLOT2.values\n",
    "# separate array into input and output components\n",
    "X = array[:,1:14]\n",
    "Y = array[:,0]\n",
    "scaler = MinMaxScaler(feature_range=(0, 1))\n",
    "rescaledX = scaler.fit_transform(X)\n",
    "\n",
    "#rescaledX3 = rescaledX.reshape((-1,8))\n",
    "\n",
    "#rescaledX3 = pd.DataFrame({'IsCall':rescaledX[:,0],'Close':rescaledX[:,1],'Three_MMA_Late':rescaledX[:,2],'Three_MMA_SalesTrend':rescaledX[:,3],'DaysLateLastThree':rescaledX[:,4],'TotalSaleLastThree':rescaledX[:,5],'DaysLateLast':rescaledX[:,6],'UnitsLast':rescaledX[:,7],'IsCallLast':rescaledX[:,8]})\n",
    "#sns.boxplot(data = rescaledX3, orient = 'h', fliersize = '.5')"
   ]
  },
  {
   "cell_type": "code",
   "execution_count": 27,
   "metadata": {
    "collapsed": false
   },
   "outputs": [
    {
     "data": {
      "text/html": [
       "<div>\n",
       "<table border=\"1\" class=\"dataframe\">\n",
       "  <thead>\n",
       "    <tr style=\"text-align: right;\">\n",
       "      <th></th>\n",
       "      <th>DaysLate</th>\n",
       "      <th>IsCall</th>\n",
       "      <th>Close</th>\n",
       "      <th>IP</th>\n",
       "      <th>UnitsLast</th>\n",
       "      <th>IsCallLast</th>\n",
       "      <th>TotalSaleAvgLast</th>\n",
       "      <th>TotalSaleLastThree</th>\n",
       "      <th>DaysLateLastThree</th>\n",
       "      <th>DaysLateLast</th>\n",
       "    </tr>\n",
       "  </thead>\n",
       "  <tbody>\n",
       "    <tr>\n",
       "      <th>count</th>\n",
       "      <td>16040.000000</td>\n",
       "      <td>16040.000000</td>\n",
       "      <td>16040.000000</td>\n",
       "      <td>16040.000000</td>\n",
       "      <td>16040.000000</td>\n",
       "      <td>16040.000000</td>\n",
       "      <td>1.604000e+04</td>\n",
       "      <td>1.604000e+04</td>\n",
       "      <td>16040.000000</td>\n",
       "      <td>16040.000000</td>\n",
       "    </tr>\n",
       "    <tr>\n",
       "      <th>mean</th>\n",
       "      <td>3.852182</td>\n",
       "      <td>0.231858</td>\n",
       "      <td>1388.674964</td>\n",
       "      <td>99.706184</td>\n",
       "      <td>22.592706</td>\n",
       "      <td>0.225499</td>\n",
       "      <td>2.327278e+05</td>\n",
       "      <td>3.403679e+06</td>\n",
       "      <td>3.253616</td>\n",
       "      <td>3.716584</td>\n",
       "    </tr>\n",
       "    <tr>\n",
       "      <th>std</th>\n",
       "      <td>14.336176</td>\n",
       "      <td>0.422032</td>\n",
       "      <td>295.474676</td>\n",
       "      <td>4.945777</td>\n",
       "      <td>83.979435</td>\n",
       "      <td>0.417923</td>\n",
       "      <td>4.163287e+05</td>\n",
       "      <td>7.625688e+06</td>\n",
       "      <td>10.696906</td>\n",
       "      <td>14.192845</td>\n",
       "    </tr>\n",
       "    <tr>\n",
       "      <th>min</th>\n",
       "      <td>-39.000000</td>\n",
       "      <td>0.000000</td>\n",
       "      <td>735.090027</td>\n",
       "      <td>87.412500</td>\n",
       "      <td>-7.000000</td>\n",
       "      <td>0.000000</td>\n",
       "      <td>-2.639510e+06</td>\n",
       "      <td>-2.828082e+06</td>\n",
       "      <td>-36.333333</td>\n",
       "      <td>-39.000000</td>\n",
       "    </tr>\n",
       "    <tr>\n",
       "      <th>25%</th>\n",
       "      <td>-5.000000</td>\n",
       "      <td>0.000000</td>\n",
       "      <td>1186.689941</td>\n",
       "      <td>96.495900</td>\n",
       "      <td>3.000000</td>\n",
       "      <td>0.000000</td>\n",
       "      <td>7.265131e+04</td>\n",
       "      <td>5.162025e+05</td>\n",
       "      <td>-3.666667</td>\n",
       "      <td>-5.000000</td>\n",
       "    </tr>\n",
       "    <tr>\n",
       "      <th>50%</th>\n",
       "      <td>0.000000</td>\n",
       "      <td>0.000000</td>\n",
       "      <td>1365.680054</td>\n",
       "      <td>101.038200</td>\n",
       "      <td>8.000000</td>\n",
       "      <td>0.000000</td>\n",
       "      <td>1.377012e+05</td>\n",
       "      <td>1.314886e+06</td>\n",
       "      <td>0.000000</td>\n",
       "      <td>0.000000</td>\n",
       "    </tr>\n",
       "    <tr>\n",
       "      <th>75%</th>\n",
       "      <td>8.000000</td>\n",
       "      <td>0.000000</td>\n",
       "      <td>1526.750000</td>\n",
       "      <td>103.526300</td>\n",
       "      <td>19.000000</td>\n",
       "      <td>0.000000</td>\n",
       "      <td>2.596626e+05</td>\n",
       "      <td>3.110017e+06</td>\n",
       "      <td>7.333333</td>\n",
       "      <td>8.000000</td>\n",
       "    </tr>\n",
       "    <tr>\n",
       "      <th>max</th>\n",
       "      <td>90.000000</td>\n",
       "      <td>1.000000</td>\n",
       "      <td>2067.560059</td>\n",
       "      <td>106.686800</td>\n",
       "      <td>1867.000000</td>\n",
       "      <td>1.000000</td>\n",
       "      <td>1.700000e+07</td>\n",
       "      <td>9.903093e+07</td>\n",
       "      <td>77.666667</td>\n",
       "      <td>90.000000</td>\n",
       "    </tr>\n",
       "  </tbody>\n",
       "</table>\n",
       "</div>"
      ],
      "text/plain": [
       "           DaysLate        IsCall         Close            IP     UnitsLast  \\\n",
       "count  16040.000000  16040.000000  16040.000000  16040.000000  16040.000000   \n",
       "mean       3.852182      0.231858   1388.674964     99.706184     22.592706   \n",
       "std       14.336176      0.422032    295.474676      4.945777     83.979435   \n",
       "min      -39.000000      0.000000    735.090027     87.412500     -7.000000   \n",
       "25%       -5.000000      0.000000   1186.689941     96.495900      3.000000   \n",
       "50%        0.000000      0.000000   1365.680054    101.038200      8.000000   \n",
       "75%        8.000000      0.000000   1526.750000    103.526300     19.000000   \n",
       "max       90.000000      1.000000   2067.560059    106.686800   1867.000000   \n",
       "\n",
       "         IsCallLast  TotalSaleAvgLast  TotalSaleLastThree  DaysLateLastThree  \\\n",
       "count  16040.000000      1.604000e+04        1.604000e+04       16040.000000   \n",
       "mean       0.225499      2.327278e+05        3.403679e+06           3.253616   \n",
       "std        0.417923      4.163287e+05        7.625688e+06          10.696906   \n",
       "min        0.000000     -2.639510e+06       -2.828082e+06         -36.333333   \n",
       "25%        0.000000      7.265131e+04        5.162025e+05          -3.666667   \n",
       "50%        0.000000      1.377012e+05        1.314886e+06           0.000000   \n",
       "75%        0.000000      2.596626e+05        3.110017e+06           7.333333   \n",
       "max        1.000000      1.700000e+07        9.903093e+07          77.666667   \n",
       "\n",
       "       DaysLateLast  \n",
       "count  16040.000000  \n",
       "mean       3.716584  \n",
       "std       14.192845  \n",
       "min      -39.000000  \n",
       "25%       -5.000000  \n",
       "50%        0.000000  \n",
       "75%        8.000000  \n",
       "max       90.000000  "
      ]
     },
     "execution_count": 27,
     "metadata": {},
     "output_type": "execute_result"
    }
   ],
   "source": [
    "#describes features\n",
    "\n",
    "PAIRPLOT2.describe()"
   ]
  },
  {
   "cell_type": "code",
   "execution_count": 28,
   "metadata": {
    "collapsed": false,
    "scrolled": true
   },
   "outputs": [
    {
     "data": {
      "text/plain": [
       "Index(['DaysLate', 'IsCall', 'Close', 'IP', 'UnitsLast', 'IsCallLast',\n",
       "       'TotalSaleAvgLast', 'TotalSaleLastThree', 'DaysLateLastThree',\n",
       "       'DaysLateLast'],\n",
       "      dtype='object')"
      ]
     },
     "execution_count": 28,
     "metadata": {},
     "output_type": "execute_result"
    }
   ],
   "source": [
    "#columns which correspond to feature selection output\n",
    "\n",
    "PAIRPLOT2.columns"
   ]
  },
  {
   "cell_type": "code",
   "execution_count": 29,
   "metadata": {
    "collapsed": false,
    "scrolled": false
   },
   "outputs": [
    {
     "name": "stdout",
     "output_type": "stream",
     "text": [
      "[ 0.01795462  0.10681669  0.10758725  0.15414163  0.00375328  0.16703723\n",
      "  0.16048114  0.16162033  0.12060783]\n"
     ]
    }
   ],
   "source": [
    "# Feature Importance with Extra Trees Classifier\n",
    "from sklearn.ensemble import ExtraTreesClassifier\n",
    "array = PAIRPLOT2.values\n",
    "X = array[:,1:14]\n",
    "Y = array[:,0]\n",
    "\n",
    "# feature extraction\n",
    "model = ExtraTreesClassifier()\n",
    "model.fit(X, Y)\n",
    "print(model.feature_importances_)"
   ]
  },
  {
   "cell_type": "code",
   "execution_count": 30,
   "metadata": {
    "collapsed": false,
    "scrolled": true
   },
   "outputs": [
    {
     "name": "stdout",
     "output_type": "stream",
     "text": [
      "Num Features:  4\n",
      "Selected Features:  [ True False False  True  True False False  True False]\n",
      "Feature Ranking:  [1 4 2 1 1 5 6 1 3]\n"
     ]
    }
   ],
   "source": [
    "# Feature Extraction with RFE \n",
    "\n",
    "from sklearn.feature_selection import RFE\n",
    "from sklearn.linear_model import LogisticRegression\n",
    "\n",
    "# load data\n",
    "\n",
    "array = PAIRPLOT2.values\n",
    "X = array[:,1:14]\n",
    "Y = array[:,0]\n",
    "# feature extraction\n",
    "model = LogisticRegression()\n",
    "rfe = RFE(model, 4)\n",
    "fit = rfe.fit(X, Y)\n",
    "print(\"Num Features: \" , fit.n_features_)\n",
    "print(\"Selected Features: \" , fit.support_)\n",
    "print(\"Feature Ranking: \" , fit.ranking_)"
   ]
  },
  {
   "cell_type": "code",
   "execution_count": 31,
   "metadata": {
    "collapsed": true
   },
   "outputs": [],
   "source": [
    "#we end up using all features"
   ]
  },
  {
   "cell_type": "code",
   "execution_count": 32,
   "metadata": {
    "collapsed": false,
    "scrolled": true
   },
   "outputs": [
    {
     "name": "stdout",
     "output_type": "stream",
     "text": [
      "('LR', 0.072864566537167108, 0.0024797523139381871)\n"
     ]
    },
    {
     "name": "stderr",
     "output_type": "stream",
     "text": [
      "C:\\Users\\lzhang\\AppData\\Local\\Continuum\\Anaconda3\\lib\\site-packages\\sklearn\\discriminant_analysis.py:387: UserWarning: Variables are collinear.\n",
      "  warnings.warn(\"Variables are collinear.\")\n",
      "C:\\Users\\lzhang\\AppData\\Local\\Continuum\\Anaconda3\\lib\\site-packages\\sklearn\\discriminant_analysis.py:387: UserWarning: Variables are collinear.\n",
      "  warnings.warn(\"Variables are collinear.\")\n",
      "C:\\Users\\lzhang\\AppData\\Local\\Continuum\\Anaconda3\\lib\\site-packages\\sklearn\\discriminant_analysis.py:387: UserWarning: Variables are collinear.\n",
      "  warnings.warn(\"Variables are collinear.\")\n",
      "C:\\Users\\lzhang\\AppData\\Local\\Continuum\\Anaconda3\\lib\\site-packages\\sklearn\\discriminant_analysis.py:387: UserWarning: Variables are collinear.\n",
      "  warnings.warn(\"Variables are collinear.\")\n",
      "C:\\Users\\lzhang\\AppData\\Local\\Continuum\\Anaconda3\\lib\\site-packages\\sklearn\\discriminant_analysis.py:387: UserWarning: Variables are collinear.\n",
      "  warnings.warn(\"Variables are collinear.\")\n"
     ]
    },
    {
     "name": "stdout",
     "output_type": "stream",
     "text": [
      "('LDA', 0.10292176999577954, 0.0046327332745729139)\n",
      "('KNN', 0.054346359042063905, 0.0039045834604323855)\n",
      "('CART', 0.095662969255575867, 0.0032285749426909749)\n",
      "('NB', 0.046808704968238343, 0.0044160146096923238)\n"
     ]
    }
   ],
   "source": [
    "#test different types of models\n",
    "\n",
    "array = PAIRPLOT2.values\n",
    "X = array[:,1:14].astype(float)\n",
    "Y = array[:,0]\n",
    "validation_size = 0.33\n",
    "seed = 7\n",
    "X_train, X_validation, Y_train, Y_validation = cross_validation.train_test_split(X, Y,\n",
    "test_size=validation_size, random_state=seed)\n",
    "num_folds = 5\n",
    "num_instances = len(X_train)\n",
    "seed = 7\n",
    "scoring = 'accuracy'\n",
    "models = []\n",
    "models.append(('LR', LogisticRegression()))\n",
    "models.append(('LDA', LinearDiscriminantAnalysis()))\n",
    "models.append(('KNN', KNeighborsClassifier()))\n",
    "models.append(('CART', DecisionTreeClassifier()))\n",
    "models.append(('NB', GaussianNB()))\n",
    "#models.append(('SVM', SVC())) - causes code to hang\n",
    "results = []\n",
    "names = []\n",
    "for name, model in models:\n",
    "    kfold = cross_validation.KFold(n=num_instances, n_folds=num_folds, random_state=seed)\n",
    "    cv_results = cross_validation.cross_val_score(model, X_train, Y_train, cv=kfold, scoring=scoring)\n",
    "    results.append(cv_results)\n",
    "    names.append(name)\n",
    "    msg = (name, cv_results.mean(),cv_results.std())\n",
    "    print(msg)\n"
   ]
  },
  {
   "cell_type": "code",
   "execution_count": 33,
   "metadata": {
    "collapsed": false
   },
   "outputs": [
    {
     "data": {
      "image/png": "[encoded data removed]",
      "text/plain": [
       "<matplotlib.figure.Figure at 0x8193198>"
      ]
     },
     "metadata": {},
     "output_type": "display_data"
    }
   ],
   "source": [
    "#distribution of models, accuracy and std dev\n",
    "\n",
    "fig = plt.figure()\n",
    "fig.suptitle('Algorithm Comparison')\n",
    "ax = fig.add_subplot(111)\n",
    "plt.boxplot(results)\n",
    "ax.set_xticklabels(names)\n",
    "plt.show()"
   ]
  },
  {
   "cell_type": "code",
   "execution_count": 34,
   "metadata": {
    "collapsed": false
   },
   "outputs": [
    {
     "name": "stdout",
     "output_type": "stream",
     "text": [
      "Index(['a', 'b', 'c', 'd', 'e', 'f', 'g'], dtype='object')\n",
      "Index(['DaysLate', 'IsCall', 'Close', 'IP', 'UnitsLast', 'IsCallLast',\n",
      "       'TotalSaleAvgLast', 'TotalSaleLastThree', 'DaysLateLastThree',\n",
      "       'DaysLateLast'],\n",
      "      dtype='object')\n"
     ]
    }
   ],
   "source": [
    "a = pd.DataFrame({'a':X[:,0],'b':X[:,1],'c':X[:,2],'d':X[:,3],'e':X[:,4],'f':X[:,5],'g':X[:,6]}).head()\n",
    "\n",
    "print (a.columns)\n",
    "print (PAIRPLOT2.columns)"
   ]
  },
  {
   "cell_type": "code",
   "execution_count": 35,
   "metadata": {
    "collapsed": false
   },
   "outputs": [
    {
     "ename": "IndexError",
     "evalue": "index 7 is out of bounds for axis 0 with size 7",
     "output_type": "error",
     "traceback": [
      "\u001b[1;31m---------------------------------------------------------------------------\u001b[0m",
      "\u001b[1;31mIndexError\u001b[0m                                Traceback (most recent call last)",
      "\u001b[1;32m<ipython-input-35-0837352b04e6>\u001b[0m in \u001b[0;36m<module>\u001b[1;34m()\u001b[0m\n\u001b[0;32m      4\u001b[0m \u001b[0mclf\u001b[0m \u001b[1;33m=\u001b[0m \u001b[0mclf\u001b[0m\u001b[1;33m.\u001b[0m\u001b[0mfit\u001b[0m\u001b[1;33m(\u001b[0m\u001b[0mX_train\u001b[0m\u001b[1;33m,\u001b[0m \u001b[0mY_train\u001b[0m\u001b[1;33m)\u001b[0m\u001b[1;33m\u001b[0m\u001b[0m\n\u001b[0;32m      5\u001b[0m tree.export_graphviz(clf,\n\u001b[1;32m----> 6\u001b[1;33m     out_file='usmto3.dot',feature_names = a.columns)   \n\u001b[0m",
      "\u001b[1;32mC:\\Users\\lzhang\\AppData\\Local\\Continuum\\Anaconda3\\lib\\site-packages\\sklearn\\tree\\export.py\u001b[0m in \u001b[0;36mexport_graphviz\u001b[1;34m(decision_tree, out_file, max_depth, feature_names, class_names, label, filled, leaves_parallel, impurity, node_ids, proportion, rotate, rounded, special_characters)\u001b[0m\n\u001b[0;32m    401\u001b[0m             \u001b[0mrecurse\u001b[0m\u001b[1;33m(\u001b[0m\u001b[0mdecision_tree\u001b[0m\u001b[1;33m,\u001b[0m \u001b[1;36m0\u001b[0m\u001b[1;33m,\u001b[0m \u001b[0mcriterion\u001b[0m\u001b[1;33m=\u001b[0m\u001b[1;34m\"impurity\"\u001b[0m\u001b[1;33m)\u001b[0m\u001b[1;33m\u001b[0m\u001b[0m\n\u001b[0;32m    402\u001b[0m         \u001b[1;32melse\u001b[0m\u001b[1;33m:\u001b[0m\u001b[1;33m\u001b[0m\u001b[0m\n\u001b[1;32m--> 403\u001b[1;33m             \u001b[0mrecurse\u001b[0m\u001b[1;33m(\u001b[0m\u001b[0mdecision_tree\u001b[0m\u001b[1;33m.\u001b[0m\u001b[0mtree_\u001b[0m\u001b[1;33m,\u001b[0m \u001b[1;36m0\u001b[0m\u001b[1;33m,\u001b[0m \u001b[0mcriterion\u001b[0m\u001b[1;33m=\u001b[0m\u001b[0mdecision_tree\u001b[0m\u001b[1;33m.\u001b[0m\u001b[0mcriterion\u001b[0m\u001b[1;33m)\u001b[0m\u001b[1;33m\u001b[0m\u001b[0m\n\u001b[0m\u001b[0;32m    404\u001b[0m \u001b[1;33m\u001b[0m\u001b[0m\n\u001b[0;32m    405\u001b[0m         \u001b[1;31m# If required, draw leaf nodes at same depth as each other\u001b[0m\u001b[1;33m\u001b[0m\u001b[1;33m\u001b[0m\u001b[0m\n",
      "\u001b[1;32mC:\\Users\\lzhang\\AppData\\Local\\Continuum\\Anaconda3\\lib\\site-packages\\sklearn\\tree\\export.py\u001b[0m in \u001b[0;36mrecurse\u001b[1;34m(tree, node_id, criterion, parent, depth)\u001b[0m\n\u001b[0;32m    342\u001b[0m             \u001b[1;32mif\u001b[0m \u001b[0mleft_child\u001b[0m \u001b[1;33m!=\u001b[0m \u001b[0m_tree\u001b[0m\u001b[1;33m.\u001b[0m\u001b[0mTREE_LEAF\u001b[0m\u001b[1;33m:\u001b[0m\u001b[1;33m\u001b[0m\u001b[0m\n\u001b[0;32m    343\u001b[0m                 recurse(tree, left_child, criterion=criterion, parent=node_id,\n\u001b[1;32m--> 344\u001b[1;33m                         depth=depth + 1)\n\u001b[0m\u001b[0;32m    345\u001b[0m                 recurse(tree, right_child, criterion=criterion, parent=node_id,\n\u001b[0;32m    346\u001b[0m                         depth=depth + 1)\n",
      "\u001b[1;32mC:\\Users\\lzhang\\AppData\\Local\\Continuum\\Anaconda3\\lib\\site-packages\\sklearn\\tree\\export.py\u001b[0m in \u001b[0;36mrecurse\u001b[1;34m(tree, node_id, criterion, parent, depth)\u001b[0m\n\u001b[0;32m    300\u001b[0m             out_file.write('%d [label=%s'\n\u001b[0;32m    301\u001b[0m                            % (node_id,\n\u001b[1;32m--> 302\u001b[1;33m                               node_to_str(tree, node_id, criterion)))\n\u001b[0m\u001b[0;32m    303\u001b[0m \u001b[1;33m\u001b[0m\u001b[0m\n\u001b[0;32m    304\u001b[0m             \u001b[1;32mif\u001b[0m \u001b[0mfilled\u001b[0m\u001b[1;33m:\u001b[0m\u001b[1;33m\u001b[0m\u001b[0m\n",
      "\u001b[1;32mC:\\Users\\lzhang\\AppData\\Local\\Continuum\\Anaconda3\\lib\\site-packages\\sklearn\\tree\\export.py\u001b[0m in \u001b[0;36mnode_to_str\u001b[1;34m(tree, node_id, criterion)\u001b[0m\n\u001b[0;32m    198\u001b[0m             \u001b[1;31m# Always write node decision criteria, except for leaves\u001b[0m\u001b[1;33m\u001b[0m\u001b[1;33m\u001b[0m\u001b[0m\n\u001b[0;32m    199\u001b[0m             \u001b[1;32mif\u001b[0m \u001b[0mfeature_names\u001b[0m \u001b[1;32mis\u001b[0m \u001b[1;32mnot\u001b[0m \u001b[1;32mNone\u001b[0m\u001b[1;33m:\u001b[0m\u001b[1;33m\u001b[0m\u001b[0m\n\u001b[1;32m--> 200\u001b[1;33m                 \u001b[0mfeature\u001b[0m \u001b[1;33m=\u001b[0m \u001b[0mfeature_names\u001b[0m\u001b[1;33m[\u001b[0m\u001b[0mtree\u001b[0m\u001b[1;33m.\u001b[0m\u001b[0mfeature\u001b[0m\u001b[1;33m[\u001b[0m\u001b[0mnode_id\u001b[0m\u001b[1;33m]\u001b[0m\u001b[1;33m]\u001b[0m\u001b[1;33m\u001b[0m\u001b[0m\n\u001b[0m\u001b[0;32m    201\u001b[0m             \u001b[1;32melse\u001b[0m\u001b[1;33m:\u001b[0m\u001b[1;33m\u001b[0m\u001b[0m\n\u001b[0;32m    202\u001b[0m                 feature = \"X%s%s%s\" % (characters[1],\n",
      "\u001b[1;32mC:\\Users\\lzhang\\AppData\\Local\\Continuum\\Anaconda3\\lib\\site-packages\\pandas\\indexes\\base.py\u001b[0m in \u001b[0;36m__getitem__\u001b[1;34m(self, key)\u001b[0m\n\u001b[0;32m   1254\u001b[0m \u001b[1;33m\u001b[0m\u001b[0m\n\u001b[0;32m   1255\u001b[0m         \u001b[1;32mif\u001b[0m \u001b[0mlib\u001b[0m\u001b[1;33m.\u001b[0m\u001b[0misscalar\u001b[0m\u001b[1;33m(\u001b[0m\u001b[0mkey\u001b[0m\u001b[1;33m)\u001b[0m\u001b[1;33m:\u001b[0m\u001b[1;33m\u001b[0m\u001b[0m\n\u001b[1;32m-> 1256\u001b[1;33m             \u001b[1;32mreturn\u001b[0m \u001b[0mgetitem\u001b[0m\u001b[1;33m(\u001b[0m\u001b[0mkey\u001b[0m\u001b[1;33m)\u001b[0m\u001b[1;33m\u001b[0m\u001b[0m\n\u001b[0m\u001b[0;32m   1257\u001b[0m \u001b[1;33m\u001b[0m\u001b[0m\n\u001b[0;32m   1258\u001b[0m         \u001b[1;32mif\u001b[0m \u001b[0misinstance\u001b[0m\u001b[1;33m(\u001b[0m\u001b[0mkey\u001b[0m\u001b[1;33m,\u001b[0m \u001b[0mslice\u001b[0m\u001b[1;33m)\u001b[0m\u001b[1;33m:\u001b[0m\u001b[1;33m\u001b[0m\u001b[0m\n",
      "\u001b[1;31mIndexError\u001b[0m: index 7 is out of bounds for axis 0 with size 7"
     ]
    }
   ],
   "source": [
    ">>> from sklearn import tree\n",
    ">>>\n",
    ">>> clf = tree.DecisionTreeClassifier()\n",
    ">>> clf = clf.fit(X_train, Y_train)\n",
    ">>> tree.export_graphviz(clf,\n",
    "...     out_file='usmto3.dot',feature_names = a.columns)   "
   ]
  },
  {
   "cell_type": "code",
   "execution_count": null,
   "metadata": {
    "collapsed": true
   },
   "outputs": [],
   "source": [
    ">>> from sklearn.externals.six import StringIO\n",
    ">>> with open(\"usmto3.dot\", 'w') as f:\n",
    "...     f = tree.export_graphviz(clf, out_file=f)\n",
    "\n",
    ">>> import os\n",
    ">>> os.unlink('usmto3.dot')"
   ]
  },
  {
   "cell_type": "code",
   "execution_count": null,
   "metadata": {
    "collapsed": false
   },
   "outputs": [],
   "source": [
    "#classification report with best model (Decision Trees)\n",
    "\n",
    "from sklearn.metrics import classification_report\n",
    "\n",
    "array = PAIRPLOT2.values\n",
    "X = array[:,1:14]\n",
    "Y = array[:,0]\n",
    "test_size = 0.33\n",
    "seed = 7\n",
    "X_train, X_test, Y_train, Y_test = cross_validation.train_test_split(X, Y,\n",
    "test_size=test_size, random_state=seed)\n",
    "model = DecisionTreeClassifier()\n",
    "model.fit(X_train, Y_train)\n",
    "predicted = model.predict(X_test)\n",
    "report = classification_report(Y_test, predicted)\n",
    "print(report)"
   ]
  },
  {
   "cell_type": "code",
   "execution_count": null,
   "metadata": {
    "collapsed": false
   },
   "outputs": [],
   "source": [
    "# Cross Validation Classification LogLoss (smaller logloss better with 0 as perfect logloss)\n",
    "\n",
    "\n",
    "from sklearn import cross_validation\n",
    "array = PAIRPLOT2.values\n",
    "X = array[:,1:14]\n",
    "Y = array[:,0]\n",
    "num_folds = 10\n",
    "num_instances = len(X)\n",
    "seed = 7\n",
    "kfold = cross_validation.KFold(n=num_instances, n_folds=num_folds, random_state=seed)\n",
    "model = LinearDiscriminantAnalysis()\n",
    "scoring = 'log_loss'\n",
    "results = cross_validation.cross_val_score(model, X, Y, cv=kfold, scoring = scoring)\n",
    "print(\"Logloss: \", results.mean(), \"      Std Dev: \", results.std())"
   ]
  },
  {
   "cell_type": "code",
   "execution_count": null,
   "metadata": {
    "collapsed": false
   },
   "outputs": [],
   "source": [
    "# Cross Validation Classification with Area Under the Curve (Between 0.5 and 1 indicates good model)\n",
    "\n",
    "\n",
    "from sklearn import cross_validation\n",
    "array = PAIRPLOT2.values\n",
    "X = array[:,1:14]\n",
    "Y = array[:,0]\n",
    "num_folds = 10\n",
    "num_instances = len(X)\n",
    "seed = 7\n",
    "kfold = cross_validation.KFold(n=num_instances, n_folds=num_folds, random_state=seed)\n",
    "model = LinearDiscriminantAnalysis()\n",
    "scoring = 'roc_auc'\n",
    "results = cross_validation.cross_val_score(model, X, Y, cv=kfold, scoring = scoring)\n",
    "print(\"AUC: \", results.mean(), \"      Std Dev: \", results.std())\n"
   ]
  },
  {
   "cell_type": "code",
   "execution_count": null,
   "metadata": {
    "collapsed": false
   },
   "outputs": [],
   "source": [
    "#average sales over time\n",
    "\n",
    "BY_MONTH = AAID_BY_MONTH.groupby(['OrderDateFormatted']).sum()\n",
    "BY_MONTH.reset_index(level=1, inplace=True)\n",
    "BY_MONTH.plot(x='OrderDateFormatted', y='TotalSale')"
   ]
  },
  {
   "cell_type": "code",
   "execution_count": null,
   "metadata": {
    "collapsed": false
   },
   "outputs": [],
   "source": [
    "#plot of orders submitted over time\n",
    "\n",
    "USMTO_WHOLE.groupby(['OrderDateFormatted'])['TotalSale'].sum().plot(kind = 'line', title = 'Sum of Order Dollars')"
   ]
  },
  {
   "cell_type": "code",
   "execution_count": null,
   "metadata": {
    "collapsed": false
   },
   "outputs": [],
   "source": [
    "#percentage of company by month who needed to be called\n",
    "\n",
    "BY_MONTH = AAID_BY_MONTH.groupby(['OrderDateFormatted']).mean()\n",
    "BY_MONTH.reset_index(level=1, inplace=True)\n",
    "BY_MONTH.plot(x='OrderDateFormatted', y='IsCall')"
   ]
  },
  {
   "cell_type": "code",
   "execution_count": null,
   "metadata": {
    "collapsed": false
   },
   "outputs": [],
   "source": [
    "#percentage of company by month who needed to have first email sent\n",
    "\n",
    "BY_MONTH = AAID_BY_MONTH.groupby(['OrderDateFormatted']).mean()\n",
    "BY_MONTH.reset_index(level=1, inplace=True)\n",
    "BY_MONTH.plot(x='OrderDateFormatted', y='IsEmailOne')"
   ]
  },
  {
   "cell_type": "code",
   "execution_count": null,
   "metadata": {
    "collapsed": false
   },
   "outputs": [],
   "source": [
    "#percentage of company by month who needed to have second email sent\n",
    "\n",
    "BY_MONTH = AAID_BY_MONTH.groupby(['OrderDateFormatted']).mean()\n",
    "BY_MONTH.reset_index(level=1, inplace=True)\n",
    "BY_MONTH.plot(x='OrderDateFormatted', y='IsEmailTwo')"
   ]
  },
  {
   "cell_type": "code",
   "execution_count": null,
   "metadata": {
    "collapsed": false,
    "scrolled": true
   },
   "outputs": [],
   "source": [
    "#percentage of company by month who backfilled\n",
    "\n",
    "BY_MONTH = AAID_BY_MONTH.groupby(['OrderDateFormatted']).mean()\n",
    "BY_MONTH.reset_index(level=1, inplace=True)\n",
    "BY_MONTH.plot(x='OrderDateFormatted', y='IsBackfill')"
   ]
  },
  {
   "cell_type": "code",
   "execution_count": null,
   "metadata": {
    "collapsed": false
   },
   "outputs": [],
   "source": [
    "********BREAK**********"
   ]
  },
  {
   "cell_type": "code",
   "execution_count": null,
   "metadata": {
    "collapsed": false
   },
   "outputs": [],
   "source": [
    "USMTO_WHOLE['MachineCategory'] == 1 if USMTO_WHOLE.TopCategoryName == 'METAL CUTTING EQUIPMENT' else USMTO_WHOLE['MachineCategory'] == 2"
   ]
  },
  {
   "cell_type": "code",
   "execution_count": null,
   "metadata": {
    "collapsed": true
   },
   "outputs": [],
   "source": []
  },
  {
   "cell_type": "code",
   "execution_count": null,
   "metadata": {
    "collapsed": true
   },
   "outputs": [],
   "source": [
    "from sklearn import svm, datasets\n",
    "from sklearn.metrics import roc_curve, auc\n",
    "from sklearn.cross_validation import train_test_split\n",
    "from sklearn.preprocessing import label_binarize\n",
    "from sklearn.multiclass import OneVsRestClassifier\n",
    "from scipy import interp\n"
   ]
  },
  {
   "cell_type": "code",
   "execution_count": null,
   "metadata": {
    "collapsed": true
   },
   "outputs": [],
   "source": [
    "\n",
    "# Import some data to play with\n",
    "array = PAIRPLOT2.values\n",
    "X = array[:,1:14]\n",
    "y = array[:,0]\n",
    "\n",
    "# Binarize the output\n",
    "y = label_binarize(y, classes=[0, 1])\n",
    "n_classes = y.shape[1]\n",
    "\n",
    "# Add noisy features to make the problem harder\n",
    "random_state = np.random.RandomState(0)\n",
    "n_samples, n_features = X.shape\n",
    "X = np.c_[X, random_state.randn(n_samples, 200 * n_features)]\n",
    "\n",
    "# shuffle and split training and test sets\n",
    "X_train, X_test, y_train, y_test = train_test_split(X, y, test_size=.5,\n",
    "                                                    random_state=0)\n",
    "\n",
    "# Learn to predict each class against the other\n",
    "classifier = OneVsRestClassifier(svm.SVC(kernel='linear', probability=True,\n",
    "                                 random_state=random_state))\n",
    "y_score = classifier.fit(X_train, y_train).decision_function(X_test)\n"
   ]
  },
  {
   "cell_type": "code",
   "execution_count": null,
   "metadata": {
    "collapsed": true
   },
   "outputs": [],
   "source": [
    "\n",
    "# Compute ROC curve and ROC area for each class\n",
    "fpr = dict()\n",
    "tpr = dict()\n",
    "roc_auc = dict()\n",
    "for i in range(n_classes):\n",
    "    fpr[i], tpr[i], _ = roc_curve(y_test[:, i], y_score[:, i])\n",
    "    roc_auc[i] = auc(fpr[i], tpr[i])\n",
    "\n",
    "# Compute micro-average ROC curve and ROC area\n",
    "fpr[\"micro\"], tpr[\"micro\"], _ = roc_curve(y_test.ravel(), y_score.ravel())\n",
    "roc_auc[\"micro\"] = auc(fpr[\"micro\"], tpr[\"micro\"])\n",
    "\n",
    "plt.figure()\n",
    "plt.plot(fpr[2], tpr[2], label='ROC curve (area = %0.2f)' % roc_auc[2])\n",
    "plt.plot([0, 1], [0, 1], 'k--')\n",
    "plt.xlim([0.0, 1.0])\n",
    "plt.ylim([0.0, 1.05])\n",
    "plt.xlabel('False Positive Rate')\n",
    "plt.ylabel('True Positive Rate')\n",
    "plt.title('Receiver operating characteristic example')\n",
    "plt.legend(loc=\"lower right\")\n",
    "plt.show()"
   ]
  },
  {
   "cell_type": "code",
   "execution_count": null,
   "metadata": {
    "collapsed": true
   },
   "outputs": [],
   "source": [
    "all_fpr = np.unique(np.concatenate([fpr[i] for i in range(n_classes)]))\n",
    "\n",
    "# Then interpolate all ROC curves at this points\n",
    "mean_tpr = np.zeros_like(all_fpr)\n",
    "for i in range(n_classes):\n",
    "    mean_tpr += interp(all_fpr, fpr[i], tpr[i])\n",
    "\n",
    "# Finally average it and compute AUC\n",
    "mean_tpr /= n_classes\n",
    "\n",
    "fpr[\"macro\"] = all_fpr\n",
    "tpr[\"macro\"] = mean_tpr\n",
    "roc_auc[\"macro\"] = auc(fpr[\"macro\"], tpr[\"macro\"])\n",
    "\n",
    "# Plot all ROC curves\n",
    "plt.figure()\n",
    "plt.plot(fpr[\"micro\"], tpr[\"micro\"],\n",
    "         label='micro-average ROC curve (area = {0:0.2f})'\n",
    "               ''.format(roc_auc[\"micro\"]),\n",
    "         linewidth=2)\n",
    "\n",
    "plt.plot(fpr[\"macro\"], tpr[\"macro\"],\n",
    "         label='macro-average ROC curve (area = {0:0.2f})'\n",
    "               ''.format(roc_auc[\"macro\"]),\n",
    "         linewidth=2)\n",
    "\n",
    "for i in range(n_classes):\n",
    "    plt.plot(fpr[i], tpr[i], label='ROC curve of class {0} (area = {1:0.2f})'\n",
    "                                   ''.format(i, roc_auc[i]))\n",
    "\n",
    "plt.plot([0, 1], [0, 1], 'k--')\n",
    "plt.xlim([0.0, 1.0])\n",
    "plt.ylim([0.0, 1.05])\n",
    "plt.xlabel('False Positive Rate')\n",
    "plt.ylabel('True Positive Rate')\n",
    "plt.title('Some extension of Receiver operating characteristic to multi-class')\n",
    "plt.legend(loc=\"lower right\")\n",
    "plt.show()"
   ]
  },
  {
   "cell_type": "code",
   "execution_count": null,
   "metadata": {
    "collapsed": true
   },
   "outputs": [],
   "source": [
    "#APPENDIX AS FOLLOWS: (works in progress)"
   ]
  },
  {
   "cell_type": "code",
   "execution_count": null,
   "metadata": {
    "collapsed": false
   },
   "outputs": [],
   "source": [
    "#cols to create:\n",
    "\n",
    "#3 MMA company sales\n",
    "#3 MMA lateness\n",
    "# s&p 500 \n",
    "machine tool mix\n",
    "#prior month late days\n",
    "# scatter matrix\n",
    "\n"
   ]
  },
  {
   "cell_type": "code",
   "execution_count": null,
   "metadata": {
    "collapsed": true
   },
   "outputs": [],
   "source": [
    "#attempts to map which AAIDs submitted over what dates\n",
    "\n",
    "AAIDs = pd.DataFrame.from_csv('AAIDs.csv', index_col = False)"
   ]
  },
  {
   "cell_type": "code",
   "execution_count": null,
   "metadata": {
    "collapsed": false
   },
   "outputs": [],
   "source": [
    "AAIDs = AAIDs.fillna('')"
   ]
  },
  {
   "cell_type": "code",
   "execution_count": null,
   "metadata": {
    "collapsed": false
   },
   "outputs": [],
   "source": [
    "AAIDs"
   ]
  },
  {
   "cell_type": "code",
   "execution_count": null,
   "metadata": {
    "collapsed": false,
    "scrolled": false
   },
   "outputs": [],
   "source": [
    "#plots distribution who received a first email, over all time\n",
    "\n",
    "USMTO_WHOLE.groupby('OrderDateFormatted')['IsEmailOne'].mean().plot(kind = 'hist',bins = 10)"
   ]
  },
  {
   "cell_type": "code",
   "execution_count": null,
   "metadata": {
    "collapsed": false
   },
   "outputs": [],
   "source": [
    "USMTO_WHOLE.groupby('OrderDateFormatted')['IsEmailTwo'].mean().plot(kind = 'hist',bins = 10)"
   ]
  },
  {
   "cell_type": "code",
   "execution_count": null,
   "metadata": {
    "collapsed": false
   },
   "outputs": [],
   "source": [
    "USMTO_WHOLE.groupby('OrderDateFormatted')['IsCall'].mean().plot(kind = 'hist',bins = 10)"
   ]
  },
  {
   "cell_type": "code",
   "execution_count": null,
   "metadata": {
    "collapsed": false,
    "scrolled": true
   },
   "outputs": [],
   "source": [
    "USMTO_WHOLE.groupby('OrderDateFormatted')['IsBackfill'].mean().plot(kind = 'hist',bins = 10)"
   ]
  },
  {
   "cell_type": "code",
   "execution_count": null,
   "metadata": {
    "collapsed": false
   },
   "outputs": [],
   "source": [
    "USMTO_WHOLE"
   ]
  },
  {
   "cell_type": "code",
   "execution_count": null,
   "metadata": {
    "collapsed": true
   },
   "outputs": [],
   "source": []
  }
 ],
 "metadata": {
  "kernelspec": {
   "display_name": "Python 3",
   "language": "python",
   "name": "python3"
  },
  "language_info": {
   "codemirror_mode": {
    "name": "ipython",
    "version": 3
   },
   "file_extension": ".py",
   "mimetype": "text/x-python",
   "name": "python",
   "nbconvert_exporter": "python",
   "pygments_lexer": "ipython3",
   "version": "3.5.1"
  }
 },
 "nbformat": 4,
 "nbformat_minor": 0
}
